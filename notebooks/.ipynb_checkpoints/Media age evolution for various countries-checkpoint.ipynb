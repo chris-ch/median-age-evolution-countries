{
 "cells": [
  {
   "cell_type": "markdown",
   "id": "14cc1cea",
   "metadata": {},
   "source": [
    "# Median age evolution for various countries"
   ]
  },
  {
   "cell_type": "code",
   "execution_count": 17,
   "id": "8e66caf0",
   "metadata": {},
   "outputs": [],
   "source": [
    "import urllib.request\n",
    "import os\n",
    "from pathlib import Path\n",
    "from bs4 import BeautifulSoup\n",
    "import pandas\n",
    "\n",
    "data_folder = \"../data\"\n",
    "    \n",
    "def download():\n",
    "    urls = (\n",
    "        'https://www.statista.com/statistics/275555/median-age-of-the-population-in-mexico/',\n",
    "        'https://www.statista.com/statistics/275391/median-age-of-the-population-in-france/',\n",
    "        'https://www.statista.com/statistics/254361/average-age-of-the-population-in-brazil/',\n",
    "        'https://www.statista.com/statistics/241494/median-age-of-the-us-population/',\n",
    "        'https://www.statista.com/statistics/624303/average-age-of-the-population-in-germany/',\n",
    "        'https://www.statista.com/statistics/261339/life-expectancy-at-birth-in-switzerland/',\n",
    "        'https://www.statista.com/statistics/408007/average-age-of-the-population-in-algeria/',\n",
    "        'https://www.statista.com/statistics/524614/average-age-of-the-population-in-tunisia/',\n",
    "        'https://www.statista.com/statistics/326829/average-age-of-the-population-in-iraq/',\n",
    "        'https://www.statista.com/statistics/326576/average-age-of-the-population-in-syria/',\n",
    "        'https://www.statista.com/statistics/382229/average-age-of-the-population-in-nigeria/',\n",
    "        'https://www.statista.com/statistics/255480/median-age-of-the-population-in-turkey/',\n",
    "        'https://fr.statista.com/statistiques/785233/age-median-de-la-population-iran/',\n",
    "        'https://www.statista.com/statistics/368964/average-age-of-the-population-in-colombia/',\n",
    "        'https://www.statista.com/statistics/370768/average-age-of-the-population-in-venezuela/',\n",
    "        )\n",
    "\n",
    "    Path(data_folder).mkdir(parents=True, exist_ok=True)\n",
    "    for url in urls:\n",
    "        segments = [field for field in url.split('/') if field]\n",
    "        name = segments[-1].split('-')[-1]\n",
    "        filename = f'{data_folder}{os.path.sep}{name}.html'\n",
    "        if os.path.exists(filename):\n",
    "            continue\n",
    "            \n",
    "        response = urllib.request.urlopen(url)\n",
    "        data = response.read()\n",
    "        with open(filename, 'wb') as output:\n",
    "            output.write(data)\n",
    "\n",
    "def parse(filename):\n",
    "    soup = BeautifulSoup(open(filename), \"html.parser\")\n",
    "    table = soup.find(\"table\", {\"id\": \"statTableHTML\"})\n",
    "\n",
    "    table_body = table.find(\"tbody\")\n",
    "    rows = table_body.find_all(\"tr\")\n",
    "    data = list()\n",
    "    country = filename.split(os.path.sep)[-1].split('.')[0]\n",
    "    for row in rows:\n",
    "        cols = row.find_all(\"td\")\n",
    "        cols = [ele.text.strip() for ele in cols]\n",
    "        if cols[0].endswith(\"*\"):\n",
    "            year = int(cols[0][:-1])\n",
    "            estimated = True\n",
    "        else:\n",
    "            year = int(cols[0])\n",
    "            estimated = False\n",
    "            \n",
    "        median_age = float(cols[1].replace(',', '.'))\n",
    "        data.append({\"country\": country, \"year\": year, \"estimated\": estimated, \"median_age\": median_age})\n",
    "\n",
    "    return data\n"
   ]
  },
  {
   "cell_type": "code",
   "execution_count": 18,
   "id": "25548759",
   "metadata": {},
   "outputs": [],
   "source": [
    "download()"
   ]
  },
  {
   "cell_type": "code",
   "execution_count": 19,
   "id": "f7dcee94",
   "metadata": {},
   "outputs": [],
   "source": [
    "rows = list()\n",
    "for filename in os.listdir(data_folder):\n",
    "    if not filename.endswith(\".html\"):\n",
    "        continue\n",
    "\n",
    "    rows += parse(f\"{data_folder}{os.path.sep}{filename}\")\n",
    "    \n",
    "data = pandas.DataFrame(rows)"
   ]
  },
  {
   "cell_type": "code",
   "execution_count": 20,
   "id": "34671413",
   "metadata": {},
   "outputs": [
    {
     "data": {
      "text/html": [
       "<div>\n",
       "<style scoped>\n",
       "    .dataframe tbody tr th:only-of-type {\n",
       "        vertical-align: middle;\n",
       "    }\n",
       "\n",
       "    .dataframe tbody tr th {\n",
       "        vertical-align: top;\n",
       "    }\n",
       "\n",
       "    .dataframe thead th {\n",
       "        text-align: right;\n",
       "    }\n",
       "</style>\n",
       "<table border=\"1\" class=\"dataframe\">\n",
       "  <thead>\n",
       "    <tr style=\"text-align: right;\">\n",
       "      <th></th>\n",
       "      <th>country</th>\n",
       "      <th>year</th>\n",
       "      <th>estimated</th>\n",
       "      <th>median_age</th>\n",
       "    </tr>\n",
       "  </thead>\n",
       "  <tbody>\n",
       "    <tr>\n",
       "      <th>0</th>\n",
       "      <td>mexico</td>\n",
       "      <td>2100</td>\n",
       "      <td>True</td>\n",
       "      <td>52.1</td>\n",
       "    </tr>\n",
       "    <tr>\n",
       "      <th>1</th>\n",
       "      <td>mexico</td>\n",
       "      <td>2095</td>\n",
       "      <td>True</td>\n",
       "      <td>51.5</td>\n",
       "    </tr>\n",
       "    <tr>\n",
       "      <th>2</th>\n",
       "      <td>mexico</td>\n",
       "      <td>2090</td>\n",
       "      <td>True</td>\n",
       "      <td>50.7</td>\n",
       "    </tr>\n",
       "    <tr>\n",
       "      <th>3</th>\n",
       "      <td>mexico</td>\n",
       "      <td>2085</td>\n",
       "      <td>True</td>\n",
       "      <td>49.9</td>\n",
       "    </tr>\n",
       "    <tr>\n",
       "      <th>4</th>\n",
       "      <td>mexico</td>\n",
       "      <td>2080</td>\n",
       "      <td>True</td>\n",
       "      <td>49.0</td>\n",
       "    </tr>\n",
       "    <tr>\n",
       "      <th>...</th>\n",
       "      <td>...</td>\n",
       "      <td>...</td>\n",
       "      <td>...</td>\n",
       "      <td>...</td>\n",
       "    </tr>\n",
       "    <tr>\n",
       "      <th>556</th>\n",
       "      <td>venezuela</td>\n",
       "      <td>1970</td>\n",
       "      <td>False</td>\n",
       "      <td>15.8</td>\n",
       "    </tr>\n",
       "    <tr>\n",
       "      <th>557</th>\n",
       "      <td>venezuela</td>\n",
       "      <td>1965</td>\n",
       "      <td>False</td>\n",
       "      <td>15.4</td>\n",
       "    </tr>\n",
       "    <tr>\n",
       "      <th>558</th>\n",
       "      <td>venezuela</td>\n",
       "      <td>1960</td>\n",
       "      <td>False</td>\n",
       "      <td>15.5</td>\n",
       "    </tr>\n",
       "    <tr>\n",
       "      <th>559</th>\n",
       "      <td>venezuela</td>\n",
       "      <td>1955</td>\n",
       "      <td>False</td>\n",
       "      <td>16.0</td>\n",
       "    </tr>\n",
       "    <tr>\n",
       "      <th>560</th>\n",
       "      <td>venezuela</td>\n",
       "      <td>1950</td>\n",
       "      <td>False</td>\n",
       "      <td>16.1</td>\n",
       "    </tr>\n",
       "  </tbody>\n",
       "</table>\n",
       "<p>561 rows × 4 columns</p>\n",
       "</div>"
      ],
      "text/plain": [
       "       country  year  estimated  median_age\n",
       "0       mexico  2100       True        52.1\n",
       "1       mexico  2095       True        51.5\n",
       "2       mexico  2090       True        50.7\n",
       "3       mexico  2085       True        49.9\n",
       "4       mexico  2080       True        49.0\n",
       "..         ...   ...        ...         ...\n",
       "556  venezuela  1970      False        15.8\n",
       "557  venezuela  1965      False        15.4\n",
       "558  venezuela  1960      False        15.5\n",
       "559  venezuela  1955      False        16.0\n",
       "560  venezuela  1950      False        16.1\n",
       "\n",
       "[561 rows x 4 columns]"
      ]
     },
     "execution_count": 20,
     "metadata": {},
     "output_type": "execute_result"
    }
   ],
   "source": [
    "data"
   ]
  },
  {
   "cell_type": "code",
   "execution_count": 21,
   "id": "fd3f5661",
   "metadata": {},
   "outputs": [
    {
     "data": {
      "text/plain": [
       "<AxesSubplot:xlabel='year'>"
      ]
     },
     "execution_count": 21,
     "metadata": {},
     "output_type": "execute_result"
    },
    {
     "data": {
      "image/png": "[encoded data removed]",
      "text/plain": [
       "<Figure size 432x288 with 1 Axes>"
      ]
     },
     "metadata": {
      "needs_background": "light"
     },
     "output_type": "display_data"
    }
   ],
   "source": [
    "import matplotlib\n",
    "data[data['country'] == 'mexico'][['year', 'median_age']].set_index('year').sort_index().plot()"
   ]
  },
  {
   "cell_type": "code",
   "execution_count": null,
   "id": "e4aa2f96",
   "metadata": {},
   "outputs": [],
   "source": []
  }
 ],
 "metadata": {
  "kernelspec": {
   "display_name": "Python 3",
   "language": "python",
   "name": "python3"
  },
  "language_info": {
   "codemirror_mode": {
    "name": "ipython",
    "version": 3
   },
   "file_extension": ".py",
   "mimetype": "text/x-python",
   "name": "python",
   "nbconvert_exporter": "python",
   "pygments_lexer": "ipython3",
   "version": "3.9.6"
  }
 },
 "nbformat": 4,
 "nbformat_minor": 5
}
